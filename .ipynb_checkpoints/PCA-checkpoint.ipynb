{
 "metadata": {
  "name": ""
 },
 "nbformat": 3,
 "nbformat_minor": 0,
 "worksheets": [
  {
   "cells": [
    {
     "cell_type": "code",
     "collapsed": false,
     "input": [
      "import json\n",
      "with open('data/vcdb.json','rb') as f:\n",
      "    vcdb = json.load(f)\n",
      "print len(vcdb), \"incidents in VCDB\""
     ],
     "language": "python",
     "metadata": {},
     "outputs": [
      {
       "output_type": "stream",
       "stream": "stdout",
       "text": [
        "3084 incidents in VCDB\n"
       ]
      }
     ],
     "prompt_number": 50
    },
    {
     "cell_type": "code",
     "collapsed": false,
     "input": [
      "with open('veris/verisc-enum.json','rb') as f:\n",
      "    enum = json.load(f)"
     ],
     "language": "python",
     "metadata": {},
     "outputs": [],
     "prompt_number": 51
    },
    {
     "cell_type": "code",
     "collapsed": false,
     "input": [
      "actions = set()\n",
      "for a in enum['action']:\n",
      "    for v in enum['action'][a]['variety']:\n",
      "        actions.add(a+\".\"+v)\n",
      "actors = set()\n",
      "for m in enum['actor']['motive']:\n",
      "    actors.add(\"motive.\"+m)\n",
      "for v in enum['actor']['external']['variety']:\n",
      "    actors.add(\"actor.external.\"+v)\n",
      "for v in enum['actor']['internal']['variety']:\n",
      "    actors.add(\"actor.internal.\"+v)"
     ],
     "language": "python",
     "metadata": {},
     "outputs": [],
     "prompt_number": 52
    },
    {
     "cell_type": "code",
     "collapsed": false,
     "input": [
      "print vcdb[0]['action']['misuse']"
     ],
     "language": "python",
     "metadata": {},
     "outputs": [
      {
       "output_type": "stream",
       "stream": "stdout",
       "text": [
        "{u'vector': [u'Physical access'], u'variety': [u'Privilege abuse']}\n"
       ]
      }
     ],
     "prompt_number": 60
    },
    {
     "cell_type": "code",
     "collapsed": false,
     "input": [
      "for a in enum['action']:\n",
      "    for v in enum['action'][a]['variety']:\n",
      "        if a in vcdb[0]['action'] and v in vcdb[0]['action'][a]['variety']:\n",
      "            print v         \n",
      "        \n",
      "        "
     ],
     "language": "python",
     "metadata": {},
     "outputs": [
      {
       "output_type": "stream",
       "stream": "stdout",
       "text": [
        "Privilege abuse\n"
       ]
      }
     ],
     "prompt_number": 61
    },
    {
     "cell_type": "code",
     "collapsed": false,
     "input": [],
     "language": "python",
     "metadata": {},
     "outputs": []
    }
   ],
   "metadata": {}
  }
 ]
}