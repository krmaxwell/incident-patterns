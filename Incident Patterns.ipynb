{
 "metadata": {
  "name": ""
 },
 "nbformat": 3,
 "nbformat_minor": 0,
 "worksheets": [
  {
   "cells": [
    {
     "cell_type": "markdown",
     "metadata": {},
     "source": [
      "# Incident Patterns\n",
      "\n",
      "We analyzed the [VERIS Community Database](http://vcdb.org) for several examples of common incident patterns. This notebook dives more deeply into three of them:\n",
      "\n",
      "- Ransomware\n",
      "- Organized crime: SQLi and creds\n",
      "- POS smash & grab\n"
     ]
    },
    {
     "cell_type": "code",
     "collapsed": false,
     "input": [
      "import json\n",
      "with open('data/vcdb.json','rb') as f:\n",
      "    vcdb = json.load(f)\n",
      "print len(vcdb), \"incidents in VCDB\""
     ],
     "language": "python",
     "metadata": {},
     "outputs": [
      {
       "output_type": "stream",
       "stream": "stdout",
       "text": [
        "3084 incidents in VCDB\n"
       ]
      }
     ],
     "prompt_number": 3
    },
    {
     "cell_type": "markdown",
     "metadata": {},
     "source": [
      "## Ransomware"
     ]
    },
    {
     "cell_type": "code",
     "collapsed": false,
     "input": [
      "ransomware = []\n",
      "destro = []\n",
      "for each in vcdb:\n",
      "    if 'Ransomware' in each['action'].get('malware',{}).get('variety',[]):\n",
      "        ransomware.append(each)\n",
      "    if 'Destroy data' in each['action'].get('malware',{}).get('variety',[]):\n",
      "        destro.append(each)\n",
      "print len(ransomware), \"ransomware incidents\"\n",
      "print len(destro),\"data destruction malware incidents\""
     ],
     "language": "python",
     "metadata": {},
     "outputs": [
      {
       "output_type": "stream",
       "stream": "stdout",
       "text": [
        "9 ransomware incidents\n",
        "13 data destruction malware incidents\n"
       ]
      }
     ],
     "prompt_number": 76
    },
    {
     "cell_type": "markdown",
     "metadata": {},
     "source": [
      "These seem like a particularly small segment of the data set for highlighting.\n",
      "\n",
      "#### Kevin says\n",
      "Yeah, the problem is that Ransomware usually affects people and VERIS is aimed at incidents that affect an organization. Despite my best efforts, I haven't found many open-source ransomware incidents except for beerbong69 bitching on the MalwareBytes forums about the infection he got on his mom's computer.\n",
      "\n",
      "Maybe our first step needs to be finding more sources of these kinds of incidents and then coding them up like a mother-lover."
     ]
    },
    {
     "cell_type": "markdown",
     "metadata": {},
     "source": [
      "## Point Of Sale intrusions"
     ]
    },
    {
     "cell_type": "code",
     "collapsed": false,
     "input": [
      "print vcdb[0]['asset']['assets']"
     ],
     "language": "python",
     "metadata": {},
     "outputs": [
      {
       "output_type": "stream",
       "stream": "stdout",
       "text": [
        "[{u'variety': u'S - Database'}]\n"
       ]
      }
     ],
     "prompt_number": 85
    },
    {
     "cell_type": "code",
     "collapsed": false,
     "input": [
      "pos = []\n",
      "for each in vcdb:\n",
      "    for a in each['asset'].get('assets', {}):\n",
      "        if 'S - POS controller' in a.get('variety',[]) or 'U - POS terminal' in a.get('variety',[]):\n",
      "            pos.append(each)\n",
      "print len(pos),\"POS incidents\""
     ],
     "language": "python",
     "metadata": {},
     "outputs": [
      {
       "output_type": "stream",
       "stream": "stdout",
       "text": [
        "30 POS incidents\n"
       ]
      }
     ],
     "prompt_number": 88
    },
    {
     "cell_type": "markdown",
     "metadata": {},
     "source": [
      "This still only represents about 1% of incidents in the data set."
     ]
    }
   ],
   "metadata": {}
  }
 ]
}