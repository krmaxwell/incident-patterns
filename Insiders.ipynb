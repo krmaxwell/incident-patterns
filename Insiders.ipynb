{
 "metadata": {
  "name": ""
 },
 "nbformat": 3,
 "nbformat_minor": 0,
 "worksheets": [
  {
   "cells": [
    {
     "cell_type": "code",
     "collapsed": false,
     "input": [
      "import json\n",
      "with open('data/vcdb.json','rb') as f:\n",
      "    vcdb = json.load(f)\n",
      "print \"%d incidents imported\" % len(vcdb)"
     ],
     "language": "python",
     "metadata": {},
     "outputs": [
      {
       "output_type": "stream",
       "stream": "stdout",
       "text": [
        "3376 incidents imported\n"
       ]
      }
     ],
     "prompt_number": 1
    },
    {
     "cell_type": "code",
     "collapsed": false,
     "input": [
      "insider_attacks = []\n",
      "for each in vcdb:\n",
      "    if 'internal' in each['actor'] and 'error' not in each['action']:\n",
      "        insider_attacks.append(each)\n",
      "print \"%d incidents with Internal actors and no Error actions\" % len(insider_attacks)"
     ],
     "language": "python",
     "metadata": {},
     "outputs": [
      {
       "output_type": "stream",
       "stream": "stdout",
       "text": [
        "520 incidents with Internal actors and no Error actions\n"
       ]
      }
     ],
     "prompt_number": 11
    },
    {
     "cell_type": "code",
     "collapsed": false,
     "input": [
      "insider_motives = {}\n",
      "for each in insider_attacks:\n",
      "    motives = each.get('actor').get('internal', {}).get('motive')\n",
      "    for motive in motives:\n",
      "        if motive in insider_motives:\n",
      "            insider_motives[motive] += 1\n",
      "        else:\n",
      "            insider_motives[motive] = 1\n",
      "print insider_motives"
     ],
     "language": "python",
     "metadata": {},
     "outputs": [
      {
       "output_type": "stream",
       "stream": "stdout",
       "text": [
        "{u'Grudge': 17, u'Financial': 238, u'Unknown': 164, u'Ideology': 5, u'Convenience': 7, u'Other': 12, u'NA': 16, u'Fun': 39, u'Espionage': 22}\n"
       ]
      }
     ],
     "prompt_number": 13
    },
    {
     "cell_type": "code",
     "collapsed": false,
     "input": [
      "insider_actions = {}\n",
      "for each in insider_attacks:\n",
      "    if 'hacking' in each['action']:\n",
      "        print each['action']"
     ],
     "language": "python",
     "metadata": {},
     "outputs": [
      {
       "output_type": "stream",
       "stream": "stdout",
       "text": [
        "{u'hacking': {u'vector': [u'Physical access'], u'variety': [u'Use of stolen creds'], u'cve': u''}, u'physical': {u'vector': [u'Victim public area'], u'variety': [u'Connection']}}\n",
        "{u'hacking': {u'vector': [u'Unknown'], u'variety': [u'Unknown']}}\n",
        "{u'hacking': {u'vector': [u'Physical access'], u'variety': [u'Unknown']}}\n",
        "{u'hacking': {u'vector': [u'Unknown'], u'variety': [u'Unknown']}}\n",
        "{u'hacking': {u'vector': [u'Web application'], u'variety': [u'Unknown']}}\n",
        "{u'misuse': {u'vector': [u'LAN access'], u'variety': [u'Privilege abuse']}, u'hacking': {u'vector': [u'Unknown'], u'variety': [u'Use of stolen creds']}}\n",
        "{u'misuse': {u'vector': [u'Unknown'], u'variety': [u'Privilege abuse']}, u'hacking': {u'vector': [u'Web application'], u'variety': [u'Unknown']}}\n",
        "{u'hacking': {u'vector': [u'Unknown'], u'variety': [u'Use of stolen creds']}, u'physical': {u'vector': [u'Victim public area'], u'variety': [u'Theft']}, u'social': {u'notes': u'grifting students and university employees into providing personal information', u'vector': [u'Unknown'], u'target': [u'End-user'], u'variety': [u'Elicitation']}}\n",
        "{u'hacking': {u'notes': u\"A forensic analysis of Schmitt's access to the system revealed that he used an unauthorized password to transfer the $73,000 to the students before they were scheduled to receive the money.\", u'vector': [u'Unknown'], u'variety': [u'Use of stolen creds']}}\n",
        "{u'hacking': {u'vector': [u'Physical access'], u'variety': [u'Brute force'], u'cve': u''}, u'physical': {u'vector': [u'Victim work area'], u'variety': [u'Theft', u'Wiretapping', u'Bypassed controls']}}\n",
        "{u'misuse': {u'vector': [u'Physical access'], u'variety': [u'Unapproved hardware']}, u'hacking': {u'vector': [u'Physical access'], u'variety': [u'Use of stolen creds']}}\n",
        "{u'misuse': {u'vector': [u'LAN access'], u'variety': [u'Privilege abuse']}, u'hacking': {u'vector': [u'Web application'], u'variety': [u'Use of stolen creds'], u'cve': u''}}\n",
        "{u'misuse': {u'vector': [u'Physical access', u'LAN access'], u'variety': [u'Privilege abuse']}, u'hacking': {u'vector': [u'Physical access'], u'variety': [u'Brute force'], u'cve': u''}, u'physical': {u'vector': [u'Victim secure area'], u'variety': [u'Theft']}}\n",
        "{u'misuse': {u'vector': [u'LAN access'], u'variety': [u'Privilege abuse']}, u'hacking': {u'vector': [u'Web application'], u'variety': [u'Use of stolen creds']}}\n"
       ]
      }
     ],
     "prompt_number": 19
    }
   ],
   "metadata": {}
  }
 ]
}