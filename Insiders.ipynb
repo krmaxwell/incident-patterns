{
 "metadata": {
  "name": ""
 },
 "nbformat": 3,
 "nbformat_minor": 0,
 "worksheets": [
  {
   "cells": [
    {
     "cell_type": "code",
     "collapsed": false,
     "input": [
      "import json\n",
      "with open('data/vcdb.json','rb') as f:\n",
      "    vcdb = json.load(f)\n",
      "print \"%d incidents imported\" % len(vcdb)"
     ],
     "language": "python",
     "metadata": {},
     "outputs": [
      {
       "output_type": "stream",
       "stream": "stdout",
       "text": [
        "3376 incidents imported\n"
       ]
      }
     ],
     "prompt_number": 1
    },
    {
     "cell_type": "code",
     "collapsed": false,
     "input": [
      "insider_attacks = []\n",
      "for each in vcdb:\n",
      "    if 'internal' in each['actor'] and 'error' not in each['action']:\n",
      "        insider_attacks.append(each)\n",
      "print \"%d incidents with Internal actors and no Error actions\" % len(insider_attacks)"
     ],
     "language": "python",
     "metadata": {},
     "outputs": [
      {
       "output_type": "stream",
       "stream": "stdout",
       "text": [
        "520 incidents with Internal actors and no Error actions\n"
       ]
      }
     ],
     "prompt_number": 11
    },
    {
     "cell_type": "code",
     "collapsed": false,
     "input": [
      "insider_motives = {}\n",
      "for each in insider_attacks:\n",
      "    motives = each.get('actor').get('internal', {}).get('motive')\n",
      "    for motive in motives:\n",
      "        if motive in insider_motives:\n",
      "            insider_motives[motive] += 1\n",
      "        else:\n",
      "            insider_motives[motive] = 1\n",
      "print insider_motives"
     ],
     "language": "python",
     "metadata": {},
     "outputs": [
      {
       "output_type": "stream",
       "stream": "stdout",
       "text": [
        "{u'Grudge': 17, u'Financial': 238, u'Unknown': 164, u'Ideology': 5, u'Convenience': 7, u'Other': 12, u'NA': 16, u'Fun': 39, u'Espionage': 22}\n"
       ]
      }
     ],
     "prompt_number": 13
    },
    {
     "cell_type": "code",
     "collapsed": false,
     "input": [
      "import matplotlib.pyplot as plt\n",
      "import numpy as np\n",
      "%matplotlib inline"
     ],
     "language": "python",
     "metadata": {},
     "outputs": [],
     "prompt_number": 20
    },
    {
     "cell_type": "code",
     "collapsed": false,
     "input": [
      "labels = sorted(insider_motives, key=insider_motives.get)\n",
      "values = [insider_motives[x] for x in labels]\n",
      "ypos = np.arange(len(insider_motives))+.1\n",
      "plt.barh(ypos,values,color=\"red\",align=\"center\",height=.9)\n",
      "\n",
      "# Adds some padding to the bars so that it doesn't butt up \n",
      "# against the edge of the image\n",
      "plt.xlim(0,max(values)*1.1)\n",
      "plt.yticks(ypos,labels)\n",
      "plt.title(\"Motives for Insiders. n = %s\" % len(insider_attacks))\n",
      "plt.show()"
     ],
     "language": "python",
     "metadata": {},
     "outputs": [
      {
       "metadata": {},
       "output_type": "display_data",
       "png": "[encoded data removed]",
       "text": [
        "<matplotlib.figure.Figure at 0x7f1664080d10>"
       ]
      }
     ],
     "prompt_number": 23
    },
    {
     "cell_type": "code",
     "collapsed": false,
     "input": [
      "hacking_count = 0\n",
      "misuse_count = 0\n",
      "for each in insider_attacks:\n",
      "    if 'hacking' in each['action']:\n",
      "        hacking_count += 1\n",
      "    if 'misuse' in each['action']:\n",
      "        misuse_count += 1\n",
      "print \"Hacking: %d\" % hacking_count\n",
      "print \"Misuse: %d\" % misuse_count"
     ],
     "language": "python",
     "metadata": {},
     "outputs": [
      {
       "output_type": "stream",
       "stream": "stdout",
       "text": [
        "Hacking: 14\n",
        "Misuse: 477\n"
       ]
      }
     ],
     "prompt_number": 25
    }
   ],
   "metadata": {}
  }
 ]
}