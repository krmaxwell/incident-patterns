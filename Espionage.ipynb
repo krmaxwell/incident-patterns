{
 "metadata": {
  "name": ""
 },
 "nbformat": 3,
 "nbformat_minor": 0,
 "worksheets": [
  {
   "cells": [
    {
     "cell_type": "markdown",
     "metadata": {},
     "source": [
      "# Espionage\n",
      "\n",
      "This pattern is significantly more complicated than the others examined thus far, as we'll see once we get into the actions. First, we'll load the data and set up some helper data structures and functions."
     ]
    },
    {
     "cell_type": "code",
     "collapsed": false,
     "input": [
      "import json\n",
      "with open('data/vcdb.json','rb') as f:\n",
      "    vcdb = json.load(f)\n",
      "print \"%d incidents imported\" % len(vcdb)"
     ],
     "language": "python",
     "metadata": {},
     "outputs": [
      {
       "output_type": "stream",
       "stream": "stdout",
       "text": [
        "3376 incidents imported\n"
       ]
      }
     ],
     "prompt_number": 1
    },
    {
     "cell_type": "code",
     "collapsed": false,
     "input": [
      "spying = []\n",
      "for each in vcdb:\n",
      "    if 'Espionage' in each['actor'].get('external',{}).get('motive',{}):\n",
      "        spying.append(each)"
     ],
     "language": "python",
     "metadata": {},
     "outputs": [],
     "prompt_number": 2
    },
    {
     "cell_type": "markdown",
     "metadata": {},
     "source": [
      "Note: `industry_remap` just consists of the [NAICS codes](http://www.naics.com/search) mapped to the names of the various industry sectors."
     ]
    },
    {
     "cell_type": "code",
     "collapsed": false,
     "input": [
      "industry_remap = {\n",
      "  '11':'Agriculture',\n",
      "  '21':'Mining',\n",
      "  '22':'Utilities',\n",
      "  '23':'Construction',\n",
      "  '31':'Manufacturing',\n",
      "  '32':'Manufacturing',\n",
      "  '33':'Manufacturing',\n",
      "  '42':'Wholesale Trade',\n",
      "  '44':'Retail',\n",
      "  '45':'Retail',\n",
      "  '48':'Transportation',\n",
      "  '49':'Transportation',\n",
      "  '51':'Information',\n",
      "  '52':'Finance',\n",
      "  '53':'Real Estate',\n",
      "  '54':'Professional Services',\n",
      "  '55':'Finance',\n",
      "  '56':'Administrative services',\n",
      "  '61':'Educational Services',\n",
      "  '62':'Health Care',\n",
      "  '71':'Recreation',\n",
      "  '72':'Hospitality',\n",
      "  '81':'Other Services',\n",
      "  '92':'Public',\n",
      "  '00':'Unknown'}"
     ],
     "language": "python",
     "metadata": {},
     "outputs": [],
     "prompt_number": 3
    },
    {
     "cell_type": "code",
     "collapsed": false,
     "input": [
      "import matplotlib.pyplot as plt\n",
      "import numpy as np\n",
      "%matplotlib inline"
     ],
     "language": "python",
     "metadata": {},
     "outputs": [],
     "prompt_number": 4
    },
    {
     "cell_type": "code",
     "collapsed": false,
     "input": [
      "def plot(data):\n",
      "    labels = sorted(data, key=data.get)\n",
      "    values = [data[x] for x in labels]\n",
      "    ypos = np.arange(len(data))+.1\n",
      "    plt.barh(ypos,values,color=\"red\",align=\"center\",height=.9)\n",
      "    \n",
      "    # Adds some padding to the bars so that it doesn't butt up \n",
      "    # against the edge of the image\n",
      "    plt.xlim(0,max(values)*1.1)\n",
      "    plt.yticks(ypos,labels)\n",
      "    plt.show()"
     ],
     "language": "python",
     "metadata": {},
     "outputs": [],
     "prompt_number": 5
    },
    {
     "cell_type": "markdown",
     "metadata": {},
     "source": [
      "## Analysis\n",
      "\n",
      "It would be useful to know the industries and countries for which we have data. We'll plot the data below without the unknowns, but list them here for accuracy and completeness."
     ]
    },
    {
     "cell_type": "code",
     "collapsed": false,
     "input": [
      "spy_countries = {}\n",
      "spy_industries = {}\n",
      "for each in spying:\n",
      "    for c in each['victim']['country']:\n",
      "        if c in spy_countries:\n",
      "            spy_countries[c] += 1\n",
      "        else:\n",
      "            spy_countries[c] = 1\n",
      "    ind = each['victim']['industry'][:2]\n",
      "    if ind in spy_industries:\n",
      "        spy_industries[ind] += 1\n",
      "    else:\n",
      "        spy_industries[ind] = 1\n",
      "print \"%d incidents occurred in unknown countries\" % spy_countries['Unknown']\n",
      "print \"%d incidents occurred in unknown industries\" % spy_industries['00']"
     ],
     "language": "python",
     "metadata": {},
     "outputs": [
      {
       "output_type": "stream",
       "stream": "stdout",
       "text": [
        "39 incidents occurred in unknown countries\n",
        "19 incidents occurred in unknown industries\n"
       ]
      }
     ],
     "prompt_number": 6
    },
    {
     "cell_type": "code",
     "collapsed": false,
     "input": [
      "del spy_countries['Unknown']\n",
      "plot(spy_countries)"
     ],
     "language": "python",
     "metadata": {},
     "outputs": [
      {
       "metadata": {},
       "output_type": "display_data",
       "png": "[encoded data removed]",
       "text": [
        "<matplotlib.figure.Figure at 0x7f4ea51c3450>"
       ]
      }
     ],
     "prompt_number": 7
    },
    {
     "cell_type": "markdown",
     "metadata": {},
     "source": [
      "For clarity, we'll list the data as well."
     ]
    },
    {
     "cell_type": "code",
     "collapsed": false,
     "input": [
      "import operator\n",
      "print sorted(spy_countries.iteritems(), key=operator.itemgetter(1))"
     ],
     "language": "python",
     "metadata": {},
     "outputs": [
      {
       "output_type": "stream",
       "stream": "stdout",
       "text": [
        "[(u'BG', 1), (u'BA', 1), (u'HR', 1), (u'BN', 1), (u'DE', 1), (u'ZA', 1), (u'BW', 1), (u'DZ', 1), (u'MK', 1), (u'BR', 1), (u'ET', 1), (u'TL', 1), (u'SK', 1), (u'NZ', 1), (u'LU', 1), (u'PK', 1), (u'AT', 1), (u'RO', 1), (u'CH', 1), (u'IQ', 1), (u'BH', 1), (u'CA', 1), (u'IR', 1), (u'CG', 1), (u'IT', 1), (u'VN', 1), (u'AL', 1), (u'JO', 1), (u'GB', 1), (u'TZ', 1), (u'ID', 1), (u'ME', 1), (u'OM', 1), (u'MA', 1), (u'KE', 1), (u'UZ', 1), (u'ML', 1), (u'QA', 1), (u'SI', 1), (u'SA', 1), (u'KW', 1), (u'MR', 1), (u'UG', 1), (u'MZ', 1), (u'FR', 2), (u'HU', 2), (u'FI', 2), (u'LB', 2), (u'PT', 2), (u'TW', 2), (u'AM', 2), (u'LV', 2), (u'TM', 2), (u'AF', 2), (u'CZ', 2), (u'GE', 2), (u'IE', 2), (u'MD', 2), (u'IL', 2), (u'TR', 2), (u'CY', 2), (u'LT', 2), (u'UA', 2), (u'CN', 3), (u'AU', 3), (u'ES', 3), (u'BY', 4), (u'AE', 4), (u'IN', 4), (u'AZ', 4), (u'BE', 5), (u'JP', 5), (u'KZ', 5), (u'RU', 7), (u'US', 14), (u'KR', 17)]\n"
       ]
      }
     ],
     "prompt_number": 8
    },
    {
     "cell_type": "markdown",
     "metadata": {},
     "source": [
      "Note the top (last) three are KR (South Korea), US, and Russia. This reflects the sample bias discussed in our talk, as the majority of our public data on espionage campaigns comes from Kaspersky."
     ]
    },
    {
     "cell_type": "code",
     "collapsed": false,
     "input": [
      "plot(spy_industries)"
     ],
     "language": "python",
     "metadata": {},
     "outputs": [
      {
       "metadata": {},
       "output_type": "display_data",
       "png": "[encoded data removed]",
       "text": [
        "<matplotlib.figure.Figure at 0x7f96383afa50>"
       ]
      }
     ],
     "prompt_number": 10
    },
    {
     "cell_type": "code",
     "collapsed": false,
     "input": [
      "print industry_remap['92']\n",
      "print industry_remap['00']\n",
      "print industry_remap['54']\n",
      "print industry_remap['51']"
     ],
     "language": "python",
     "metadata": {},
     "outputs": [
      {
       "output_type": "stream",
       "stream": "stdout",
       "text": [
        "Public\n",
        "Unknown\n",
        "Professional Services\n",
        "Information\n"
       ]
      }
     ],
     "prompt_number": 11
    },
    {
     "cell_type": "markdown",
     "metadata": {},
     "source": [
      "Let's understand the actions involved. We know that these incidents involve Social, Malware, and Hacking actions, so let's look at the Social actions first."
     ]
    },
    {
     "cell_type": "code",
     "collapsed": false,
     "input": [
      "social_vectors = {}\n",
      "social_varieties = {}\n",
      "for each in spying:\n",
      "    if 'social' in each['action']:\n",
      "        for vector in each['action']['social']['vector']:\n",
      "            if vector in social_vectors:\n",
      "                social_vectors[vector] += 1\n",
      "            else:\n",
      "                social_vectors[vector] = 1\n",
      "        for variety in each['action']['social']['variety']:\n",
      "            if variety in social_varieties:\n",
      "                social_varieties[variety] += 1\n",
      "            else:\n",
      "                social_varieties[variety] = 1\n",
      "plot(social_vectors)\n",
      "plot(social_varieties)"
     ],
     "language": "python",
     "metadata": {},
     "outputs": [
      {
       "metadata": {},
       "output_type": "display_data",
       "png": "[encoded data removed]",
       "text": [
        "<matplotlib.figure.Figure at 0x7f4ea4ef9a90>"
       ]
      },
      {
       "metadata": {},
       "output_type": "display_data",
       "png": "[encoded data removed]",
       "text": [
        "<matplotlib.figure.Figure at 0x7f4ea4eef1d0>"
       ]
      }
     ],
     "prompt_number": 9
    },
    {
     "cell_type": "code",
     "collapsed": false,
     "input": [
      "refs = {}\n",
      "for each in spying:\n",
      "    if each['reference'] in refs:\n",
      "        refs[each['reference']] += 1\n",
      "    else:\n",
      "        refs[each['reference']] = 1\n",
      "print sorted(refs.iteritems(), key=operator.itemgetter(1))"
     ],
     "language": "python",
     "metadata": {},
     "outputs": [
      {
       "output_type": "stream",
       "stream": "stdout",
       "text": [
        "[(u'http://www.fireeye.com/resources/pdfs/fireeye-operation-ke3chang.pdf (20140106); http://www.fireeye.com/blog/technical/malware-research/2013/12/operation-ke3chang-targeted-attacks-against-ministries-of-foreign-affairs.html (20140106)', 1), (u'http://www.livemint.com/Industry/ZoQivrvfFjfOJV74NGaW8K/Did-Pakistans-ISI-penetrate-BSNLs-systems.html', 1), (u'http://www.chinadaily.com.cn/china/2014-05/05/content_17483608.htm', 1), (u'http://www.mtv.fi/uutiset/kotimaa/artikkeli/mtv3--suomen-ulkoministerio-laajan-verkkovakoilun-kohteena-vuosia/2369718;http://www.pcmag.com/article2/0,2817,2426678,00.asp;http://www.databreaches.net/finnish-government-hit-with-serious-data-breach/;http://formin.finland.fi/public/default.aspx?contentid=291725&contentlan=2&culture=en-US', 1), (u'http://www.fireeye.com/blog/technical/cyber-exploits/2013/09/operation-deputydog-zero-day-cve-2013-3893-attack-against-japanese-targets.html (20131213);http://www.fireeye.com/blog/technical/cyber-exploits/2013/09/operation-deputydog-part-2-zero-day-exploit-analysis-cve-2013-3893.html (20131213)', 1), (u'http://krebsonsecurity.com/2013/02/security-firm-bit9-hacked-used-to-spread-malware/ (20131213);http://krebsonsecurity.com/2013/02/bit9-breach-began-in-july-2012/#more-19106 (20131213);https://blog.bit9.com/2013/02/08/bit9-and-our-customers-security/ (20131213);https://blog.bit9.com/2013/02/25/bit9-security-incident-update/ (20131213)', 1), (u'http://www.fireeye.com/blog/technical/cyber-exploits/2013/05/ready-for-summer-the-sunshop-campaign.html (20131216);http://www.fireeye.com/blog/technical/cyber-exploits/2013/08/the-sunshop-campaign-continues.html (20131216)', 1), (u'http://blogs.mcafee.com/mcafee-labs/dissecting-operation-troy-cyberespionage-in-south-korea (20140113);http://www.nytimes.com/2013/03/21/world/asia/south-korea-computer-network-crashes.html?_r=0 (20140113)', 1), (u'http://www.fireeye.com/blog/technical/cyber-exploits/2013/05/ready-for-summer-the-sunshop-campaign.html (20131216);http://www.fireeye.com/blog/technical/cyber-exploits/2013/08/the-sunshop-campaign-continues.html (20131216);http://www.fireeye.com/resources/pdfs/fireeye-malware-supply-chain.pdf (20131216)', 1), (u'http://www.databreaches.net/telecom-database-accessed-by-employees-of-power-marketing-ltd/; http://www.nzherald.co.nz/nz/news/article.cfm?c_id=1&objectid=10700000', 1), (u'http://www.net-security.org/secworld.php?id=14353, http://freebeacon.com/cyber-breach/', 1), (u'A FinSpy campaign in Ethiopia uses pictures of Ginbot 7, an Ethiopian opposition group, as bait to infect users. This continues the theme of FinSpy deployments with strong indications of politically-motivated targeting.', 1), (u'http://www.computerworld.com/s/article/9242784/Iran_accused_of_hacking_into_U.S._Navy_computers?source=rss_security&utm_source=twitterfeed&utm_medium=twitter&utm_campaign=Feed%3A+computerworld%2Fs%2Ffeed%2Ftopic%2F82+%28Computerworld+Cybercrime+and+Hacking+News%29', 1), (u'http://www.fireeye.com/blog/technical/cyber-exploits/2013/11/operation-ephemeral-hydra-ie-zero-day-linked-to-deputydog-uses-diskless-method.html (20131213);http://www.networkworld.com/community/blog/ie-zero-day-attack-delivers-malware-memory-then-poofs-reboot (20131213);http://www.fireeye.com/blog/technical/2013/11/new-ie-zero-day-found-in-watering-hole-attack.html (20131213)', 1), (u'http://www.csoonline.com/article/728343/japan-foreign-ministry-says-pc-leaked-docs-to-external-server', 1), (u'http://www.nytimes.com/2014/02/16/us/eavesdropping-ensnared-american-law-firm.html?_r=0 (20140319);http://www.theguardian.com/world/2014/feb/16/australia-spied-indonesia-talks-us-firm (20140319)', 1), (u'http://www.kaspersky.com/about/news/virus/2013/Kaspersky_Lab_Identifies_MiniDuke_a_New_Malicious_Program_Designed_for_Spying_on_Multiple_Government_Entities_and_Institutions_Across_the_World ; https://www.securelist.com/en/downloads/vlpdfs/themysteryofthepdf0-dayassemblermicrobackdoor.pdf', 1), (u'http://www.csmonitor.com/Innovation/Latest-News-Wires/2013/0813/Dalai-Lama-s-Chinese-language-website-hacked-warns-computer-security-firm (20130821) http://www.technewsworld.com/story/78716.html (20130821)', 1), (u'http://english.vietnamnet.vn/fms/education/84156/hanoi--200-students-off-school-because-of-hacker.html (20130911)', 1), (u'http://www.abc.net.au/7.30/content/2013/s3900429.htm (20140318);http://www.smh.com.au/federal-politics/political-news/east-timor-repeats-accusations-australia-bugged-leaders-in-timor-sea-resources-talks-20131128-2yazd.html (20140318);http://www.abc.net.au/news/2014-03-17/australia-warns-east-timor-over-maritime-boundaries-case/5324192 (20140318);http://www.theaustralian.com.au/news/world/international-court-of-justice-bans-australia-from-spying-on-east-timor/story-e6frg6so-1226844389340 (20140318)', 1), (u'http://www.chinapost.com.tw/taiwan/national/national-news/2014/04/29/406476/Ex-Air-Force.htm', 1), (u'http://www.brisbanetimes.com.au/national/internal-rivals-stole-leaked-bid-details-20131024-2w4gh.html', 1), (u'http://www.scmagazineuk.com/russia-suspected-of-ukraine-cyber-attack/article/337578/ (20140311);http://www.reuters.com/article/2014/03/04/us-ukraine-crisis-telecoms-idUSBREA230Q920140304 (20140311)', 1), (u'http://threatpost.com/watering-hole-attack-claims-us-department-of-labor-website/#.UYF8qxMs_qs.twitter, http://www.esecurityplanet.com/hackers/u.s.-department-of-labor-web-site-hacked-serves-malware.html, http://www.darkreading.com/attacks-breaches/us-department-of-labor-website-discovere/240153967', 1), (u'http://www.databreaches.net/david-nosal-sentenced-case-narrowed-the-definition-of-exceeding-authorized-access-under-cfaa/; http://cdn.ca9.uscourts.gov/datastore/opinions/2011/04/28/10-10038.pdf; http://www.volokh.com/posts/1235510297.shtml', 1), (u'http://www.wired.com/threatlevel/2013/11/british-spies-hacked-telecom (20131115);http://www.spiegel.de/international/europe/british-spy-agency-gchq-hacked-belgian-telecoms-firm-a-923406.html (20131115)', 1), (u'http://www.databreaches.net/computer-security-breach-at-serco-affects-123000-thrift-savings-plan-participants/', 1), (u'http://www.reuters.com/article/2014/05/12/us-belgium-cybercrime-ukraine-idUSBREA4B0EB20140512', 1), (u'http://www.npr.org/templates/story/story.php?storyId=186853260 (20130604) http://www.news.com.au/technology/hacking-chinese-spies-steal-asio-blueprints/story-e6frfro0-1226651694269 (20130604)', 1), (u'https://threatpost.com/belgian-telco-belgacom-compromised;  https://www.net-security.org/secworld.php?id=15619;  https://threatpost.com/belgian-telco-belgacom-compromised', 1), (u'https://blog.bit9.com/2013/02/25/bit9-security-incident-update/; http://krebsonsecurity.com/2013/02/security-firm-bit9-hacked-used-to-spread-malware/ (20131227)', 1), (u'http://www.theguardian.com/world/2014/feb/27/gchq-nsa-webcam-images-internet-yahoo (20140227);http://www.bbc.com/news/technology-26367781 (20140227);http://rt.com/usa/optic-nerve-yahoo-webcams-050/ (20140227)', 1), (u'http://www.theregister.co.uk/2012/02/15/nortel_breach/ (20131003);http://www.darkreading.com/advanced-threats/nortel-breach-gave-hackers-access-for-ye/232600858 (20131003)', 1), (u'http://www.fireeye.com/blog/technical/targeted-attack/2013/04/new-targeted-attack-on-taiwanese-government-tibetan-activists-open-up-a-can-of-worms-graypigeon-hangame-shiqiang-gang.html (20140106)', 2), (u'http://blogs.mcafee.com/mcafee-labs/dissecting-operation-troy-cyberespionage-in-south-korea (20140113);http://www.nytimes.com/2013/03/21/world/asia/south-korea-computer-network-crashes.html?_r=0 (20140113);http://arstechnica.com/security/2013/03/your-hard-drive-will-self-destruct-at-2pm-inside-the-south-korean-cyber-attack/ (20140113)', 4), (u'https://www.securelist.com/en/analysis/204792305/The_Kimsuky_Operation_A_North_Korean_APT', 13), (u'http://www.kaspersky.com/about/news/virus/2013/Kaspersky_Lab_Identifies_MiniDuke_a_New_Malicious_Program_Designed_for_Spying_on_Multiple_Government_Entities_and_Institutions_Across_the_World', 59), (u'http://www.kaspersky.com/about/news/virus/2013/Kaspersky_Lab_Identifies_Operation_Red_October_an_Advanced_Cyber_Espionage_Campaign_Targeting_Diplomatic_and_Government_Institutions_Worldwide ; https://www.securelist.com/en/analysis/204792262/Red_October_Diplomatic_Cyber_Attacks_Investigation ; https://www.securelist.com/en/analysis/204792265/Red_October_Detailed_Malware_Description_1_First_Stage_of_Attack ; https://www.securelist.com/en/images/pictures/klblog/208194085.png', 88)]\n"
       ]
      }
     ],
     "prompt_number": 14
    }
   ],
   "metadata": {}
  }
 ]
}