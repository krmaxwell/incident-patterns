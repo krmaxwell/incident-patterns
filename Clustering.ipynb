{
 "metadata": {
  "name": "Clustering"
 },
 "nbformat": 3,
 "nbformat_minor": 0,
 "worksheets": [
  {
   "cells": [
    {
     "cell_type": "markdown",
     "metadata": {},
     "source": [
      "# Incident Patterns Clustering\n",
      "\n",
      "This notebook will demonstrate how we load the [VERIS Community Database](http://vcdb.org) and identify clusters of related factors (Actor and Action enumerations) representing incident patterns. The only code dependencies for this notebook are [**NetworkX**](https://networkx.github.io), easily installable with `pip install networkx`, and [**VERIS**](https://github.com/vz-risk/veris), which should be installed with `git submodule init && git submodule update`."
     ]
    },
    {
     "cell_type": "markdown",
     "metadata": {},
     "source": [
      "## Setup\n",
      "\n",
      "We have previously concatenated each of the individual incidents in VCDB into one large JSON object. Using the `git submodule` functionality, we have also imported VERIS per se. So we will load the enumerations from there for use in building our data structures."
     ]
    },
    {
     "cell_type": "code",
     "collapsed": false,
     "input": [
      "import json\n",
      "with open('data/vcdb.json','rb') as f:\n",
      "    vcdb = json.load(f)\n",
      "print len(vcdb), \"incidents in VCDB\""
     ],
     "language": "python",
     "metadata": {},
     "outputs": [
      {
       "output_type": "stream",
       "stream": "stdout",
       "text": [
        "3084 incidents in VCDB\n"
       ]
      }
     ],
     "prompt_number": 2
    },
    {
     "cell_type": "code",
     "collapsed": false,
     "input": [
      "with open('veris/verisc-enum.json','rb') as f:\n",
      "    enum = json.load(f)"
     ],
     "language": "python",
     "metadata": {},
     "outputs": [],
     "prompt_number": 3
    },
    {
     "cell_type": "markdown",
     "metadata": {},
     "source": [
      "## Incident matrix construction\n",
      "\n",
      "We expand each incident to a matrix of factors using relevant enumerations as described above. This will result in a data structure with (simplified) labels for the columns and the incident GUIDs for the rows. Each cell uses 0 and 1 (rather than the built-in Python Boolean types) to simplify calculations in the next step. Note that we first chose this approach before deciding on using graph clustering. Future iterations could potentially skip this step altogether and construct the graph directly from the incident data, an approach we will explore in the future."
     ]
    },
    {
     "cell_type": "code",
     "collapsed": false,
     "input": [
      "matrix = {}\n",
      "labels = set()\n",
      "output = False\n",
      "for incident in vcdb:\n",
      "    i = incident['incident_id']\n",
      "    matrix[i] = {}\n",
      "    if output:\n",
      "        print i\n",
      "    for action in enum['action']:\n",
      "        for variety in enum['action'][action]['variety']:\n",
      "            if variety == \"Unknown\": # these enumerations are not useful for our purposes\n",
      "                continue\n",
      "            label = \"action.\" + action + \".variety.\" + variety.lower().replace(' ', '_')\n",
      "            labels.add(label)\n",
      "            if action in incident['action'] and variety in incident['action'][action]['variety']:\n",
      "                if output:\n",
      "                    print label\n",
      "                matrix[i][label] = 1\n",
      "            else:\n",
      "                matrix[i][label] = 0\n",
      "    for motive in enum['actor']['motive']:\n",
      "        if motive == \"Unknown\" or motive.lower()==\"na\":\n",
      "            continue\n",
      "        label = \"actor.internal.motive.\" + motive.lower().replace(' ', '_')\n",
      "        labels.add(label)\n",
      "        if motive in incident['actor'].get('internal',{}).get('motive',[]):\n",
      "            if output:\n",
      "                print label\n",
      "            matrix[i][label] = 1\n",
      "        else:\n",
      "            matrix[i][label] = 0\n",
      "        label = \"actor.external.motive.\" + motive.lower().replace(' ', '_')\n",
      "        labels.add(label)\n",
      "        if motive in incident['actor'].get('external',{}).get('motive',[]):\n",
      "            if output:\n",
      "                print label\n",
      "            matrix[i][label] = 1\n",
      "        else:\n",
      "            matrix[i][label] = 0\n",
      "    for variety in enum['actor']['internal']['variety']:\n",
      "        if variety == \"Unknown\":\n",
      "            continue\n",
      "        label = 'actor.internal.variety.' + variety.lower().replace(' ', '_')\n",
      "        labels.add(label)\n",
      "        if variety in incident['actor'].get('internal',{}).get('variety',[]):\n",
      "            matrix[i][label] = 1\n",
      "        else:\n",
      "            matrix[i][label] = 0\n",
      "    for variety in enum['actor']['external']['variety']:\n",
      "        if variety == \"Unknown\":\n",
      "            continue\n",
      "        label = 'actor.external.variety.' + variety.lower().replace(' ', '_')\n",
      "        labels.add(label)\n",
      "        if variety in incident['actor'].get('external',{}).get('variety',[]):\n",
      "            if output:\n",
      "                print label\n",
      "            matrix[i][label] = 1\n",
      "        else:\n",
      "            matrix[i][label] = 0"
     ],
     "language": "python",
     "metadata": {},
     "outputs": [],
     "prompt_number": 62
    },
    {
     "cell_type": "markdown",
     "metadata": {},
     "source": [
      "Next we iterate through each of the relevant factors and construct a correlation matrix, where the rows and columns each correspond to a factor and the cells contain a count of the number of incidents that have *both* factors. This count will later be used as edge weights in the graph."
     ]
    },
    {
     "cell_type": "code",
     "collapsed": false,
     "input": [
      "correlation = {}\n",
      "for label in labels:\n",
      "    correlation[label] = {}\n",
      "    for corr_label in labels: # initialize the row\n",
      "        correlation[label][corr_label] = 0\n",
      "    for incident in matrix:\n",
      "        # check to see if this incident has relevant data for this label\n",
      "        if matrix[incident][label] > 0:\n",
      "            for factor in matrix[incident]:\n",
      "                correlation[label][factor] += matrix[incident][factor]"
     ],
     "language": "python",
     "metadata": {},
     "outputs": [],
     "prompt_number": 63
    },
    {
     "cell_type": "markdown",
     "metadata": {},
     "source": [
      "## Graph construction\n",
      "\n",
      "We construct the graph directly from the correlation matrix. Note that this could be optimized so as not to add edges that already exist; however, for our data set, the runtime is already so fast (under a second) as not to matter. NetworkX will silently replace the existing edge, and for undirected graphs like ours, the order does not matter. To reduce 'noise', we have chosen to eliminate all correlations where the two factors only have a few incidents in common (note the tuning parameter `threshold`)."
     ]
    },
    {
     "cell_type": "code",
     "collapsed": false,
     "input": [
      "import networkx as nx\n",
      "G = nx.Graph()\n",
      "threshold = 10\n",
      "for label1 in correlation:\n",
      "    for label2 in correlation[label]:\n",
      "        if label1 != label2 and correlation[label1][label2] >= threshold:\n",
      "            G.add_edge(label1, label2, weight=correlation[label1][label2])\n",
      "            if output:\n",
      "                print \"%s <= %3d => %s\" % (label1, correlation[label1][label2], label2)"
     ],
     "language": "python",
     "metadata": {},
     "outputs": [],
     "prompt_number": 64
    },
    {
     "cell_type": "markdown",
     "metadata": {},
     "source": [
      "## Graph analysis \n",
      "\n",
      "We can now begin the process of identifying useful clusters in the graph."
     ]
    },
    {
     "cell_type": "code",
     "collapsed": false,
     "input": [
      "print nx.info(G)"
     ],
     "language": "python",
     "metadata": {},
     "outputs": [
      {
       "output_type": "stream",
       "stream": "stdout",
       "text": [
        "Name: \n",
        "Type: Graph\n",
        "Number of nodes: 52\n",
        "Number of edges: 195\n",
        "Average degree:   7.5000\n"
       ]
      }
     ],
     "prompt_number": 65
    },
    {
     "cell_type": "code",
     "collapsed": false,
     "input": [
      "list(nx.find_cliques(G))[::-1]"
     ],
     "language": "python",
     "metadata": {},
     "outputs": [
      {
       "output_type": "pyout",
       "prompt_number": 66,
       "text": [
        "[[u'action.social.variety.extortion', u'actor.external.motive.financial'],\n",
        " [u'action.social.variety.phishing',\n",
        "  u'actor.external.variety.state-affiliated',\n",
        "  u'actor.external.motive.espionage',\n",
        "  u'action.malware.variety.backdoor',\n",
        "  u'action.hacking.variety.use_of_backdoor_or_c2',\n",
        "  u'action.malware.variety.downloader',\n",
        "  u'action.malware.variety.c2',\n",
        "  u'action.malware.variety.capture_stored_data',\n",
        "  u'action.malware.variety.rootkit',\n",
        "  u'action.malware.variety.disable_controls',\n",
        "  u'action.malware.variety.other'],\n",
        " [u'action.social.variety.phishing',\n",
        "  u'actor.external.variety.state-affiliated',\n",
        "  u'actor.external.motive.espionage',\n",
        "  u'action.malware.variety.backdoor',\n",
        "  u'action.hacking.variety.use_of_backdoor_or_c2',\n",
        "  u'action.malware.variety.downloader',\n",
        "  u'action.malware.variety.c2',\n",
        "  u'action.malware.variety.capture_stored_data',\n",
        "  u'action.malware.variety.export_data',\n",
        "  u'action.malware.variety.spyware/keylogger',\n",
        "  u'action.malware.variety.disable_controls'],\n",
        " [u'action.social.variety.phishing',\n",
        "  u'actor.external.variety.state-affiliated',\n",
        "  u'actor.external.motive.espionage',\n",
        "  u'action.malware.variety.backdoor',\n",
        "  u'action.hacking.variety.use_of_backdoor_or_c2',\n",
        "  u'action.malware.variety.downloader',\n",
        "  u'action.malware.variety.c2',\n",
        "  u'action.malware.variety.capture_stored_data',\n",
        "  u'action.malware.variety.export_data',\n",
        "  u'action.malware.variety.spyware/keylogger',\n",
        "  u'action.malware.variety.scan_network',\n",
        "  u'action.hacking.variety.brute_force',\n",
        "  u'action.malware.variety.brute_force',\n",
        "  u'action.malware.variety.exploit_vuln',\n",
        "  u'action.hacking.variety.use_of_stolen_creds'],\n",
        " [u'action.social.variety.phishing',\n",
        "  u'actor.external.motive.financial',\n",
        "  u'action.hacking.variety.use_of_stolen_creds'],\n",
        " [u'actor.external.variety.organized_crime',\n",
        "  u'actor.external.motive.financial',\n",
        "  u'action.physical.variety.surveillance',\n",
        "  u'action.physical.variety.tampering'],\n",
        " [u'action.error.variety.misdelivery', u'actor.internal.variety.end-user'],\n",
        " [u'actor.internal.motive.fun',\n",
        "  u'action.misuse.variety.privilege_abuse',\n",
        "  u'actor.internal.variety.end-user'],\n",
        " [u'actor.external.variety.former_employee',\n",
        "  u'actor.external.motive.financial'],\n",
        " [u'actor.internal.motive.financial',\n",
        "  u'action.misuse.variety.privilege_abuse',\n",
        "  u'actor.internal.variety.manager'],\n",
        " [u'actor.internal.motive.financial',\n",
        "  u'action.misuse.variety.privilege_abuse',\n",
        "  u'actor.internal.variety.other'],\n",
        " [u'actor.internal.motive.financial',\n",
        "  u'action.misuse.variety.privilege_abuse',\n",
        "  u'actor.internal.variety.executive'],\n",
        " [u'actor.internal.motive.financial',\n",
        "  u'action.misuse.variety.privilege_abuse',\n",
        "  u'actor.internal.variety.finance'],\n",
        " [u'actor.internal.motive.financial',\n",
        "  u'action.misuse.variety.privilege_abuse',\n",
        "  u'action.social.variety.bribery',\n",
        "  u'actor.external.motive.financial'],\n",
        " [u'actor.internal.motive.financial', u'actor.internal.variety.cashier'],\n",
        " [u'actor.internal.motive.financial',\n",
        "  u'action.physical.variety.theft',\n",
        "  u'actor.external.motive.financial'],\n",
        " [u'actor.external.variety.unaffiliated',\n",
        "  u'actor.external.motive.financial',\n",
        "  u'action.physical.variety.tampering'],\n",
        " [u'actor.external.variety.unaffiliated',\n",
        "  u'actor.external.motive.financial',\n",
        "  u'action.physical.variety.theft'],\n",
        " [u'action.error.variety.loss', u'actor.internal.variety.end-user'],\n",
        " [u'action.error.variety.loss', u'action.physical.variety.theft'],\n",
        " [u'actor.internal.motive.grudge', u'action.misuse.variety.privilege_abuse'],\n",
        " [u'actor.internal.motive.other', u'action.misuse.variety.privilege_abuse'],\n",
        " [u'action.misuse.variety.unapproved_hardware',\n",
        "  u'actor.internal.motive.financial'],\n",
        " [u'action.error.variety.publishing_error',\n",
        "  u'actor.internal.variety.end-user'],\n",
        " [u'action.misuse.variety.knowledge_abuse',\n",
        "  u'action.misuse.variety.privilege_abuse',\n",
        "  u'action.misuse.variety.data_mishandling',\n",
        "  u'actor.internal.motive.financial',\n",
        "  u'actor.internal.variety.end-user'],\n",
        " [u'action.misuse.variety.knowledge_abuse',\n",
        "  u'action.misuse.variety.privilege_abuse',\n",
        "  u'actor.internal.motive.espionage'],\n",
        " [u'actor.external.variety.activist',\n",
        "  u'actor.external.motive.ideology',\n",
        "  u'action.hacking.variety.sqli'],\n",
        " [u'actor.external.variety.activist',\n",
        "  u'actor.external.motive.ideology',\n",
        "  u'action.hacking.variety.dos'],\n",
        " [u'actor.external.variety.activist', u'actor.external.motive.grudge'],\n",
        " [u'actor.external.motive.fun',\n",
        "  u'action.hacking.variety.sqli',\n",
        "  u'actor.external.variety.activist'],\n",
        " [u'actor.external.motive.fun',\n",
        "  u'action.hacking.variety.sqli',\n",
        "  u'actor.external.variety.unaffiliated'],\n",
        " [u'actor.internal.variety.system_admin',\n",
        "  u'action.error.variety.publishing_error']]"
       ]
      }
     ],
     "prompt_number": 66
    },
    {
     "cell_type": "code",
     "collapsed": false,
     "input": [
      "import operator\n",
      "sorted_nodes = sorted(nx.degree(G).iteritems(), key=operator.itemgetter(1))\n",
      "print sorted_nodes[::-1]"
     ],
     "language": "python",
     "metadata": {},
     "outputs": [
      {
       "output_type": "stream",
       "stream": "stdout",
       "text": [
        "[(u'action.social.variety.phishing', 18), (u'actor.external.variety.state-affiliated', 17), (u'action.malware.variety.downloader', 17), (u'action.malware.variety.capture_stored_data', 17), (u'actor.external.motive.espionage', 17), (u'action.malware.variety.c2', 17), (u'action.hacking.variety.use_of_backdoor_or_c2', 17), (u'action.malware.variety.backdoor', 17), (u'action.hacking.variety.use_of_stolen_creds', 15), (u'action.malware.variety.export_data', 15), (u'action.malware.variety.spyware/keylogger', 15), (u'action.misuse.variety.privilege_abuse', 14), (u'action.malware.variety.scan_network', 14), (u'action.malware.variety.exploit_vuln', 14), (u'action.malware.variety.brute_force', 14), (u'action.hacking.variety.brute_force', 14), (u'actor.internal.motive.financial', 13), (u'action.malware.variety.disable_controls', 12), (u'actor.external.motive.financial', 12), (u'action.malware.variety.rootkit', 10), (u'action.malware.variety.other', 10), (u'actor.internal.variety.end-user', 8), (u'actor.external.variety.unaffiliated', 5), (u'actor.external.variety.activist', 5), (u'action.misuse.variety.knowledge_abuse', 5), (u'action.physical.variety.tampering', 4), (u'action.physical.variety.theft', 4), (u'action.hacking.variety.sqli', 4), (u'action.misuse.variety.data_mishandling', 4), (u'action.social.variety.bribery', 3), (u'action.physical.variety.surveillance', 3), (u'actor.external.variety.organized_crime', 3), (u'actor.external.motive.ideology', 3), (u'actor.external.motive.fun', 3), (u'actor.internal.variety.manager', 2), (u'actor.internal.variety.other', 2), (u'actor.internal.variety.finance', 2), (u'actor.internal.variety.executive', 2), (u'actor.internal.motive.espionage', 2), (u'actor.internal.motive.fun', 2), (u'action.error.variety.publishing_error', 2), (u'action.error.variety.loss', 2), (u'action.hacking.variety.dos', 2), (u'actor.external.variety.former_employee', 1), (u'actor.internal.variety.cashier', 1), (u'action.error.variety.misdelivery', 1), (u'action.social.variety.extortion', 1), (u'actor.internal.motive.grudge', 1), (u'actor.external.motive.grudge', 1), (u'actor.internal.motive.other', 1), (u'action.misuse.variety.unapproved_hardware', 1), (u'actor.internal.variety.system_admin', 1)]\n"
       ]
      }
     ],
     "prompt_number": 67
    },
    {
     "cell_type": "code",
     "collapsed": false,
     "input": [
      "sorted(list(nx.all_neighbors(G, 'actor.external.motive.financial')))"
     ],
     "language": "python",
     "metadata": {},
     "outputs": [
      {
       "output_type": "pyout",
       "prompt_number": 28,
       "text": [
        "[u'action.hacking.variety.use_of_stolen_creds',\n",
        " u'action.misuse.variety.privilege_abuse',\n",
        " u'action.physical.variety.surveillance',\n",
        " u'action.physical.variety.tampering',\n",
        " u'action.physical.variety.theft',\n",
        " u'action.social.variety.bribery',\n",
        " u'action.social.variety.extortion',\n",
        " u'action.social.variety.phishing',\n",
        " u'actor.external.variety.former_employee',\n",
        " u'actor.external.variety.organized_crime',\n",
        " u'actor.external.variety.unaffiliated',\n",
        " u'actor.internal.motive.financial']"
       ]
      }
     ],
     "prompt_number": 28
    },
    {
     "cell_type": "code",
     "collapsed": false,
     "input": [
      "sorted(list(nx.all_neighbors(G, 'action.misuse.variety.privilege_abuse')))"
     ],
     "language": "python",
     "metadata": {},
     "outputs": [
      {
       "output_type": "pyout",
       "prompt_number": 29,
       "text": [
        "[u'action.misuse.variety.data_mishandling',\n",
        " u'action.misuse.variety.knowledge_abuse',\n",
        " u'action.social.variety.bribery',\n",
        " u'actor.external.motive.financial',\n",
        " u'actor.internal.motive.espionage',\n",
        " u'actor.internal.motive.financial',\n",
        " u'actor.internal.motive.fun',\n",
        " u'actor.internal.motive.grudge',\n",
        " u'actor.internal.motive.na',\n",
        " u'actor.internal.motive.other',\n",
        " u'actor.internal.variety.end-user',\n",
        " u'actor.internal.variety.executive',\n",
        " u'actor.internal.variety.finance',\n",
        " u'actor.internal.variety.manager',\n",
        " u'actor.internal.variety.other']"
       ]
      }
     ],
     "prompt_number": 29
    },
    {
     "cell_type": "code",
     "collapsed": false,
     "input": [
      "sorted(list(nx.all_neighbors(G, 'action.social.variety.phishing')))"
     ],
     "language": "python",
     "metadata": {},
     "outputs": [
      {
       "output_type": "pyout",
       "prompt_number": 30,
       "text": [
        "[u'action.hacking.variety.brute_force',\n",
        " u'action.hacking.variety.use_of_backdoor_or_c2',\n",
        " u'action.hacking.variety.use_of_stolen_creds',\n",
        " u'action.malware.variety.backdoor',\n",
        " u'action.malware.variety.brute_force',\n",
        " u'action.malware.variety.c2',\n",
        " u'action.malware.variety.capture_stored_data',\n",
        " u'action.malware.variety.disable_controls',\n",
        " u'action.malware.variety.downloader',\n",
        " u'action.malware.variety.exploit_vuln',\n",
        " u'action.malware.variety.export_data',\n",
        " u'action.malware.variety.other',\n",
        " u'action.malware.variety.rootkit',\n",
        " u'action.malware.variety.scan_network',\n",
        " u'action.malware.variety.spyware/keylogger',\n",
        " u'actor.external.motive.espionage',\n",
        " u'actor.external.motive.financial',\n",
        " u'actor.external.variety.state-affiliated']"
       ]
      }
     ],
     "prompt_number": 30
    },
    {
     "cell_type": "markdown",
     "metadata": {},
     "source": [
      "## Exporting the graph\n",
      "\n",
      "If preferred, the following cell will write the graph to a CSV file suitable for importing into other analysis packages (e.g. [**Gephi**](https://gephi.org))."
     ]
    },
    {
     "cell_type": "code",
     "collapsed": false,
     "input": [
      "import csv\n",
      "written_labels = set()\n",
      "with open('vcdb_cluster.csv', 'wb') as csvfile:\n",
      "    vcdbwriter = csv.writer(csvfile)\n",
      "    vcdbwriter.writerow(['Label1', 'Label2', 'Weight'])\n",
      "    for label1 in correlation:\n",
      "        for label2 in correlation[label1]:\n",
      "            if label2 not in written_labels and label1 != label2 and correlation[label1][label2] > 1:\n",
      "                vcdbwriter.writerow([label1, label2, correlation[label1][label2]])\n",
      "        written_labels.add(label1)"
     ],
     "language": "python",
     "metadata": {},
     "outputs": [],
     "prompt_number": 29
    },
    {
     "cell_type": "markdown",
     "metadata": {},
     "source": [
      "But since we've already built the graph, we can also just export that."
     ]
    },
    {
     "cell_type": "code",
     "collapsed": false,
     "input": [
      "nx.write_gml(G, 'vcdb.gml')"
     ],
     "language": "python",
     "metadata": {},
     "outputs": [],
     "prompt_number": 26
    }
   ],
   "metadata": {}
  }
 ]
}