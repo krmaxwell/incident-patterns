{
 "metadata": {
  "name": ""
 },
 "nbformat": 3,
 "nbformat_minor": 0,
 "worksheets": [
  {
   "cells": [
    {
     "cell_type": "markdown",
     "metadata": {},
     "source": [
      "# Incident Patterns\n",
      "\n",
      "We analyzed the [VERIS Community Database](http://vcdb.org) for several examples of common incident patterns. This notebook dives more deeply into three of them:\n",
      "\n",
      "- Ransomware\n",
      "- Organized crime: SQLi and creds\n",
      "- POS smash & grab\n"
     ]
    },
    {
     "cell_type": "code",
     "collapsed": false,
     "input": [
      "import json\n",
      "import pandas as pd\n",
      "import matplotlib.pyplot as plt\n",
      "with open('data/vcdb.json','rb') as f:\n",
      "    vcdb = json.load(f)\n",
      "print len(vcdb), \"incidents in VCDB\"\n",
      "%matplotlib inline"
     ],
     "language": "python",
     "metadata": {},
     "outputs": [
      {
       "output_type": "stream",
       "stream": "stdout",
       "text": [
        "3376 incidents in VCDB\n"
       ]
      }
     ],
     "prompt_number": 1
    },
    {
     "cell_type": "markdown",
     "metadata": {},
     "source": [
      "## Ransomware"
     ]
    },
    {
     "cell_type": "code",
     "collapsed": false,
     "input": [
      "ransomware = []\n",
      "for each in vcdb:\n",
      "    if 'Ransomware' in each['action'].get('malware',{}).get('variety',[]) or \\\n",
      "        'Destroy data' in each['action'].get('malware',{}).get('variety',[]):\n",
      "            ransomware.append(each)\n",
      "print len(ransomware), \"ransomware incidents\""
     ],
     "language": "python",
     "metadata": {},
     "outputs": [
      {
       "output_type": "stream",
       "stream": "stdout",
       "text": [
        "19 ransomware incidents\n"
       ]
      }
     ],
     "prompt_number": 4
    },
    {
     "cell_type": "code",
     "collapsed": false,
     "input": [
      "ransomwareActions = []\n",
      "ransomwareActionCounts = []\n",
      "for eachIncident in ransomware:\n",
      "    for eachAction in eachIncident['action']:\n",
      "        for eachVariety in eachIncident['action'][eachAction]['variety']:\n",
      "            ransomwareActions.append(\"action.%s.%s\" % (eachAction,eachVariety))\n",
      "ransomwareUniqueActions = set(ransomwareActions)\n",
      "for eachAction in ransomwareUniqueActions:\n",
      "    ransomwareActionCounts.append({'action':eachAction,'count':ransomwareActions.count(eachAction)})\n",
      "rwdf = pd.DataFrame(ransomwareActionCounts)\n",
      "rwdf = rwdf.sort('count',ascending=1)\n",
      "rwdf.head()\n",
      "rwdf.plot(\"action\",kind=\"barh\",legend=False)"
     ],
     "language": "python",
     "metadata": {},
     "outputs": [
      {
       "metadata": {},
       "output_type": "pyout",
       "prompt_number": 5,
       "text": [
        "<matplotlib.axes.AxesSubplot at 0x7f568d647590>"
       ]
      },
      {
       "metadata": {},
       "output_type": "display_data",
       "png": "[encoded data removed]",
       "text": [
        "<matplotlib.figure.Figure at 0x7f568d647090>"
       ]
      }
     ],
     "prompt_number": 5
    },
    {
     "cell_type": "markdown",
     "metadata": {},
     "source": [
      "#### Kyle: \n",
      "These seem like a particularly small segment of the data set for highlighting.\n",
      "\n",
      "#### Kevin:\n",
      "Yeah, the problem is that Ransomware usually affects people and VERIS is aimed at incidents that affect an organization. Despite my best efforts, I haven't found many open-source ransomware incidents except for beerbong69 bitching on the MalwareBytes forums about the infection he got on his mom's computer. Maybe our first step needs to be finding more sources of these kinds of incidents and then coding them up like a mother-lover.\n",
      "\n",
      "#### Kyle: \n",
      "I've gone the alternate route of trying to find different clusters / patterns. "
     ]
    },
    {
     "cell_type": "code",
     "collapsed": false,
     "input": [
      "for incident in ransomware:\n",
      "    if 'hacking' in incident['action']:\n",
      "        print incident['action']['hacking']['vector']                        \n",
      "    if 'social' in incident['action']:\n",
      "        print incident['action']['social']['vector']"
     ],
     "language": "python",
     "metadata": {},
     "outputs": [
      {
       "output_type": "stream",
       "stream": "stdout",
       "text": [
        "[u'Software']\n",
        "[u'Software']\n",
        "[u'Email', u'Software']\n",
        "[u'Software']\n",
        "[u'Backdoor or C2']\n",
        "[u'Email']\n",
        "[u'Software']\n",
        "[u'Backdoor or C2']\n",
        "[u'Email']\n",
        "[u'Email']\n",
        "[u'Software']\n",
        "[u'Backdoor or C2']\n",
        "[u'Email']\n",
        "[u'Backdoor or C2']\n",
        "[u'Email']\n",
        "[u'Backdoor or C2']\n",
        "[u'Email']\n",
        "[u'Email', u'Software']\n",
        "[u'Software']\n",
        "[u'Software']\n",
        "[u'Email', u'Software']\n"
       ]
      }
     ],
     "prompt_number": 15
    },
    {
     "cell_type": "markdown",
     "metadata": {},
     "source": [
      "## Point Of Sale intrusions"
     ]
    },
    {
     "cell_type": "code",
     "collapsed": false,
     "input": [
      "print vcdb[0]['asset']['assets']"
     ],
     "language": "python",
     "metadata": {},
     "outputs": [
      {
       "output_type": "stream",
       "stream": "stdout",
       "text": [
        "[{u'variety': u'S - Web application'}]\n"
       ]
      }
     ],
     "prompt_number": 5
    },
    {
     "cell_type": "code",
     "collapsed": false,
     "input": [
      "pos = []\n",
      "for each in vcdb:\n",
      "    for a in each['asset'].get('assets', {}):\n",
      "        if 'S - POS controller' in a.get('variety',[]) or 'U - POS terminal' in a.get('variety',[]):\n",
      "            pos.append(each)\n",
      "print len(pos),\"POS incidents\""
     ],
     "language": "python",
     "metadata": {},
     "outputs": [
      {
       "output_type": "stream",
       "stream": "stdout",
       "text": [
        "33 POS incidents\n"
       ]
      }
     ],
     "prompt_number": 6
    },
    {
     "cell_type": "markdown",
     "metadata": {},
     "source": [
      "This still only represents about 1% of incidents in the data set."
     ]
    }
   ],
   "metadata": {}
  }
 ]
}