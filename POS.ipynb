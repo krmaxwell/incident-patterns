{
 "metadata": {
  "name": ""
 },
 "nbformat": 3,
 "nbformat_minor": 0,
 "worksheets": [
  {
   "cells": [
    {
     "cell_type": "code",
     "collapsed": false,
     "input": [
      "import json\n",
      "with open('data/vcdb.json','rb') as f:\n",
      "    vcdb = json.load(f)\n",
      "print \"%d incidents imported\" % len(vcdb)"
     ],
     "language": "python",
     "metadata": {},
     "outputs": [
      {
       "output_type": "stream",
       "stream": "stdout",
       "text": [
        "3376 incidents imported\n"
       ]
      }
     ],
     "prompt_number": 1
    },
    {
     "cell_type": "code",
     "collapsed": false,
     "input": [
      "pos = []\n",
      "for each in vcdb:\n",
      "    if 'assets' not in each['asset']:\n",
      "        continue\n",
      "    assets = each['asset']['assets']\n",
      "    for asset in assets:\n",
      "        if 'S - POS controller' in asset or 'U - POS terminal' in asset['variety'] and \\\n",
      "                'physical' not in each['action']:\n",
      "            pos.append(each)\n",
      "            break\n",
      "print len(pos)"
     ],
     "language": "python",
     "metadata": {},
     "outputs": [
      {
       "output_type": "stream",
       "stream": "stdout",
       "text": [
        "17\n"
       ]
      }
     ],
     "prompt_number": 11
    },
    {
     "cell_type": "code",
     "collapsed": false,
     "input": [
      "for incident in pos:\n",
      "    print incident['action']"
     ],
     "language": "python",
     "metadata": {},
     "outputs": [
      {
       "output_type": "stream",
       "stream": "stdout",
       "text": [
        "{u'unknown': {}}\n",
        "{u'hacking': {u'notes': u'wireless network', u'vector': [u'Other'], u'variety': [u'Unknown']}, u'malware': {u'vector': [u'Direct install'], u'variety': [u'Spyware/Keylogger']}}\n",
        "{u'malware': {u'vector': [u'Unknown'], u'name': u'', u'variety': [u'Unknown']}}\n",
        "{u'hacking': {u'notes': u'POS hack', u'vector': [u'Unknown'], u'variety': [u'Unknown']}, u'malware': {u'vector': [u'Direct install'], u'variety': [u'Spyware/Keylogger']}}\n",
        "{u'hacking': {u'vector': [u'Web application'], u'variety': [u'Use of stolen creds']}, u'malware': {u'vector': [u'Direct install'], u'variety': [u'Ram scraper', u'Export data']}}\n",
        "{u'malware': {u'vector': [u'Unknown'], u'variety': [u'Capture app data']}}\n",
        "{u'hacking': {u'vector': [u'Unknown'], u'variety': [u'Unknown']}}\n",
        "{u'malware': {u'variety': [u'Capture app data'], u'vector': [u'Unknown'], u'name': u'', u'cve': u''}}\n",
        "{u'hacking': {u'vector': [u'Unknown'], u'variety': [u'Unknown']}}\n",
        "{u'hacking': {u'vector': [u'Unknown'], u'variety': [u'Unknown']}}\n",
        "{u'hacking': {u'vector': [u'Unknown'], u'variety': [u'Unknown']}}\n",
        "{u'hacking': {u'notes': u'POS hack', u'vector': [u'Unknown'], u'variety': [u'Unknown']}, u'malware': {u'vector': [u'Direct install'], u'variety': [u'Unknown']}}\n",
        "{u'hacking': {u'notes': u'POS hack', u'vector': [u'Unknown'], u'variety': [u'Unknown']}, u'malware': {u'vector': [u'Unknown'], u'variety': [u'Spyware/Keylogger']}}\n",
        "{u'malware': {u'vector': [u'Unknown'], u'variety': [u'Unknown']}}\n",
        "{u'malware': {u'vector': [u'Unknown'], u'name': u'', u'variety': [u'Unknown']}}\n",
        "{u'malware': {u'notes': u'separate but related malware that allowed the scraping malware to function had been inserted earlier in 2013', u'vector': [u'Unknown', u'Download by malware'], u'variety': [u'Downloader', u'Ram scraper']}}\n",
        "{u'hacking': {u'vector': [u'Unknown'], u'variety': [u'Unknown']}}\n"
       ]
      }
     ],
     "prompt_number": 12
    },
    {
     "cell_type": "code",
     "collapsed": false,
     "input": [],
     "language": "python",
     "metadata": {},
     "outputs": []
    }
   ],
   "metadata": {}
  }
 ]
}