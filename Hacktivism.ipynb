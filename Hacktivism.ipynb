{
 "metadata": {
  "name": "VCDB - Hacktivism"
 },
 "nbformat": 3,
 "nbformat_minor": 0,
 "worksheets": [
  {
   "cells": [
    {
     "cell_type": "code",
     "collapsed": false,
     "input": [
      "import json\n",
      "with open('data/vcdb.json','rb') as f:\n",
      "    vcdb = json.load(f)\n",
      "print len(vcdb)"
     ],
     "language": "python",
     "metadata": {},
     "outputs": [
      {
       "output_type": "stream",
       "stream": "stdout",
       "text": [
        "3084\n"
       ]
      }
     ],
     "prompt_number": 2
    },
    {
     "cell_type": "code",
     "collapsed": false,
     "input": [
      "ddos = []\n",
      "for each in vcdb:\n",
      "    variety = each.get('action').get('hacking', {}).get('variety', [])\n",
      "    if 'DoS' in variety:\n",
      "        ddos.append(each)"
     ],
     "language": "python",
     "metadata": {},
     "outputs": [],
     "prompt_number": 3
    },
    {
     "cell_type": "code",
     "collapsed": false,
     "input": [
      "len(ddos)"
     ],
     "language": "python",
     "metadata": {},
     "outputs": [
      {
       "output_type": "pyout",
       "prompt_number": 4,
       "text": [
        "51"
       ]
      }
     ],
     "prompt_number": 4
    },
    {
     "cell_type": "code",
     "collapsed": false,
     "input": [
      "for each in ddos:\n",
      "    print each.get('actor').get('external', {}).get('motive')"
     ],
     "language": "python",
     "metadata": {},
     "outputs": [
      {
       "output_type": "stream",
       "stream": "stdout",
       "text": [
        "[u'Ideology']\n",
        "[u'Grudge']\n",
        "[u'Unknown']\n",
        "[u'Ideology']\n",
        "[u'Fun']\n",
        "[u'Fun']\n",
        "[u'Unknown']\n",
        "[u'Grudge']\n",
        "[u'Ideology']\n",
        "[u'Ideology']\n",
        "[u'Unknown']\n",
        "[u'Ideology']\n",
        "[u'Fun']\n",
        "[u'Unknown']\n",
        "[u'Ideology']\n",
        "[u'Grudge']\n",
        "[u'Unknown']\n",
        "[u'Unknown']\n",
        "[u'Unknown']\n",
        "[u'Ideology']\n",
        "[u'Unknown']\n",
        "[u'Unknown']\n",
        "[u'Fun']\n",
        "[u'Unknown']\n",
        "[u'Grudge']\n",
        "[u'Ideology']\n",
        "[u'Fun']\n",
        "[u'Unknown']\n",
        "[u'Ideology']\n",
        "[u'Ideology']\n",
        "[u'Ideology']\n",
        "[u'Fun']\n",
        "[u'Ideology']\n",
        "[u'Grudge']\n",
        "[u'Ideology']\n",
        "[u'Fun']\n",
        "[u'Unknown']\n",
        "[u'Unknown']\n",
        "[u'Unknown']\n",
        "[u'Ideology']\n",
        "[u'Grudge']\n",
        "[u'Ideology']\n",
        "[u'Unknown']\n",
        "[u'Unknown']\n",
        "[u'Unknown']\n",
        "[u'Fun']\n",
        "[u'Unknown']\n",
        "[u'Ideology']\n",
        "[u'Ideology']\n",
        "[u'Ideology']\n",
        "[u'Unknown']\n"
       ]
      }
     ],
     "prompt_number": 5
    },
    {
     "cell_type": "code",
     "collapsed": false,
     "input": [
      "hacktivism=[]\n",
      "varieties = {}\n",
      "for each in vcdb: #or 'Fun' in each.get('actor').get('external', {}).get('motive',[]) \\\n",
      "    if 'Activist' in each['actor'].get('external',{}).get('variety',[]) \\\n",
      "      or 'Ideology' in each.get('actor').get('external', {}).get('motive',[]):\n",
      "        hacktivism.append(each)\n",
      "        variety = each['action'].get('hacking',{}).get('variety', [])\n",
      "        if 'Unknown' not in variety:\n",
      "            for v in variety:\n",
      "                if v in varieties:\n",
      "                    varieties[v] += 1\n",
      "                else:\n",
      "                    varieties[v] = 1\n",
      "print varieties"
     ],
     "language": "python",
     "metadata": {},
     "outputs": [
      {
       "output_type": "stream",
       "stream": "stdout",
       "text": [
        "{u'XSS': 1, u'Use of stolen creds': 8, u'SQLi': 21, u'Brute force': 5, u'Other': 5, u'DoS': 24, u'Abuse of functionality': 2}\n"
       ]
      }
     ],
     "prompt_number": 6
    },
    {
     "cell_type": "code",
     "collapsed": false,
     "input": [
      "print len(hacktivism)"
     ],
     "language": "python",
     "metadata": {},
     "outputs": [
      {
       "output_type": "stream",
       "stream": "stdout",
       "text": [
        "386\n"
       ]
      }
     ],
     "prompt_number": 68
    }
   ],
   "metadata": {}
  }
 ]
}